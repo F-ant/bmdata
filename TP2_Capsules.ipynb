{
  "nbformat": 4,
  "nbformat_minor": 0,
  "metadata": {
    "colab": {
      "name": "TP2_Capsules.ipynb",
      "provenance": [],
      "collapsed_sections": []
    },
    "kernelspec": {
      "name": "python3",
      "display_name": "Python 3"
    },
    "accelerator": "GPU"
  },
  "cells": [
    {
      "cell_type": "code",
      "metadata": {
        "id": "GVihw47jzHUg",
        "colab_type": "code",
        "outputId": "1f513b25-c957-406d-9348-7d6d042c89f6",
        "colab": {
          "base_uri": "https://localhost:8080/",
          "height": 538
        }
      },
      "source": [
        "!pip uninstall -y tensorflow\n",
        "!pip install tensorflow-gpu==2.0.0-beta1"
      ],
      "execution_count": 0,
      "outputs": [
        {
          "output_type": "stream",
          "text": [
            "Uninstalling tensorflow-1.15.0:\n",
            "  Successfully uninstalled tensorflow-1.15.0\n",
            "Collecting tensorflow-gpu==2.0.0-beta1\n",
            "\u001b[?25l  Downloading https://files.pythonhosted.org/packages/2b/53/e18c5e7a2263d3581a979645a185804782e59b8e13f42b9c3c3cfb5bb503/tensorflow_gpu-2.0.0b1-cp36-cp36m-manylinux1_x86_64.whl (348.9MB)\n",
            "\u001b[K     |████████████████████████████████| 348.9MB 46kB/s \n",
            "\u001b[?25hCollecting tb-nightly<1.14.0a20190604,>=1.14.0a20190603\n",
            "\u001b[?25l  Downloading https://files.pythonhosted.org/packages/a4/96/571b875cd81dda9d5dfa1422a4f9d749e67c0a8d4f4f0b33a4e5f5f35e27/tb_nightly-1.14.0a20190603-py3-none-any.whl (3.1MB)\n",
            "\u001b[K     |████████████████████████████████| 3.1MB 26.7MB/s \n",
            "\u001b[?25hRequirement already satisfied: six>=1.10.0 in /usr/local/lib/python3.6/dist-packages (from tensorflow-gpu==2.0.0-beta1) (1.12.0)\n",
            "Requirement already satisfied: keras-applications>=1.0.6 in /usr/local/lib/python3.6/dist-packages (from tensorflow-gpu==2.0.0-beta1) (1.0.8)\n",
            "Requirement already satisfied: protobuf>=3.6.1 in /usr/local/lib/python3.6/dist-packages (from tensorflow-gpu==2.0.0-beta1) (3.10.0)\n",
            "Requirement already satisfied: astor>=0.6.0 in /usr/local/lib/python3.6/dist-packages (from tensorflow-gpu==2.0.0-beta1) (0.8.1)\n",
            "Requirement already satisfied: numpy<2.0,>=1.14.5 in /usr/local/lib/python3.6/dist-packages (from tensorflow-gpu==2.0.0-beta1) (1.17.5)\n",
            "Requirement already satisfied: grpcio>=1.8.6 in /usr/local/lib/python3.6/dist-packages (from tensorflow-gpu==2.0.0-beta1) (1.27.1)\n",
            "Requirement already satisfied: google-pasta>=0.1.6 in /usr/local/lib/python3.6/dist-packages (from tensorflow-gpu==2.0.0-beta1) (0.1.8)\n",
            "Collecting tf-estimator-nightly<1.14.0.dev2019060502,>=1.14.0.dev2019060501\n",
            "\u001b[?25l  Downloading https://files.pythonhosted.org/packages/32/dd/99c47dd007dcf10d63fd895611b063732646f23059c618a373e85019eb0e/tf_estimator_nightly-1.14.0.dev2019060501-py2.py3-none-any.whl (496kB)\n",
            "\u001b[K     |████████████████████████████████| 501kB 42.3MB/s \n",
            "\u001b[?25hRequirement already satisfied: absl-py>=0.7.0 in /usr/local/lib/python3.6/dist-packages (from tensorflow-gpu==2.0.0-beta1) (0.9.0)\n",
            "Requirement already satisfied: keras-preprocessing>=1.0.5 in /usr/local/lib/python3.6/dist-packages (from tensorflow-gpu==2.0.0-beta1) (1.1.0)\n",
            "Requirement already satisfied: termcolor>=1.1.0 in /usr/local/lib/python3.6/dist-packages (from tensorflow-gpu==2.0.0-beta1) (1.1.0)\n",
            "Requirement already satisfied: wheel>=0.26 in /usr/local/lib/python3.6/dist-packages (from tensorflow-gpu==2.0.0-beta1) (0.34.2)\n",
            "Requirement already satisfied: gast>=0.2.0 in /usr/local/lib/python3.6/dist-packages (from tensorflow-gpu==2.0.0-beta1) (0.2.2)\n",
            "Requirement already satisfied: wrapt>=1.11.1 in /usr/local/lib/python3.6/dist-packages (from tensorflow-gpu==2.0.0-beta1) (1.11.2)\n",
            "Requirement already satisfied: werkzeug>=0.11.15 in /usr/local/lib/python3.6/dist-packages (from tb-nightly<1.14.0a20190604,>=1.14.0a20190603->tensorflow-gpu==2.0.0-beta1) (1.0.0)\n",
            "Requirement already satisfied: setuptools>=41.0.0 in /usr/local/lib/python3.6/dist-packages (from tb-nightly<1.14.0a20190604,>=1.14.0a20190603->tensorflow-gpu==2.0.0-beta1) (45.1.0)\n",
            "Requirement already satisfied: markdown>=2.6.8 in /usr/local/lib/python3.6/dist-packages (from tb-nightly<1.14.0a20190604,>=1.14.0a20190603->tensorflow-gpu==2.0.0-beta1) (3.2.1)\n",
            "Requirement already satisfied: h5py in /usr/local/lib/python3.6/dist-packages (from keras-applications>=1.0.6->tensorflow-gpu==2.0.0-beta1) (2.8.0)\n",
            "Installing collected packages: tb-nightly, tf-estimator-nightly, tensorflow-gpu\n",
            "Successfully installed tb-nightly-1.14.0a20190603 tensorflow-gpu-2.0.0b1 tf-estimator-nightly-1.14.0.dev2019060501\n"
          ],
          "name": "stdout"
        }
      ]
    },
    {
      "cell_type": "markdown",
      "metadata": {
        "id": "X3hqYxHWutsN",
        "colab_type": "text"
      },
      "source": [
        "# Classification with caps\n",
        "\n",
        "Mainly fork from [Capsule-Network Github repository](https://github.com/TheAILearner/Capsule-Network/blob/master/Capsule%20Network.ipynb)"
      ]
    },
    {
      "cell_type": "code",
      "metadata": {
        "id": "6bju4Nu_cAu7",
        "colab_type": "code",
        "outputId": "7149a2d1-6efe-4778-894d-2aea4c6d9a35",
        "colab": {
          "base_uri": "https://localhost:8080/",
          "height": 471
        }
      },
      "source": [
        "import matplotlib.pyplot as plt\n",
        "import numpy as np\n",
        "\n",
        "from google.colab import files\n",
        "\n",
        "import tensorflow as tf \n",
        "print(tf.__version__)\n",
        "from tensorflow import keras\n",
        "from tensorflow.keras.datasets import mnist\n",
        "from tensorflow.keras import backend as K\n",
        "from tensorflow.keras import layers\n",
        "from tensorflow.keras import initializers\n",
        "from tensorflow.keras import models\n",
        "from tensorflow.keras import optimizers\n",
        "from tensorflow.keras.utils import to_categorical\n",
        "from tensorflow.keras.preprocessing.image import ImageDataGenerator"
      ],
      "execution_count": 0,
      "outputs": [
        {
          "output_type": "stream",
          "text": [
            "/usr/local/lib/python3.6/dist-packages/tensorflow/python/framework/dtypes.py:516: FutureWarning: Passing (type, 1) or '1type' as a synonym of type is deprecated; in a future version of numpy, it will be understood as (type, (1,)) / '(1,)type'.\n",
            "  _np_qint8 = np.dtype([(\"qint8\", np.int8, 1)])\n",
            "/usr/local/lib/python3.6/dist-packages/tensorflow/python/framework/dtypes.py:517: FutureWarning: Passing (type, 1) or '1type' as a synonym of type is deprecated; in a future version of numpy, it will be understood as (type, (1,)) / '(1,)type'.\n",
            "  _np_quint8 = np.dtype([(\"quint8\", np.uint8, 1)])\n",
            "/usr/local/lib/python3.6/dist-packages/tensorflow/python/framework/dtypes.py:518: FutureWarning: Passing (type, 1) or '1type' as a synonym of type is deprecated; in a future version of numpy, it will be understood as (type, (1,)) / '(1,)type'.\n",
            "  _np_qint16 = np.dtype([(\"qint16\", np.int16, 1)])\n",
            "/usr/local/lib/python3.6/dist-packages/tensorflow/python/framework/dtypes.py:519: FutureWarning: Passing (type, 1) or '1type' as a synonym of type is deprecated; in a future version of numpy, it will be understood as (type, (1,)) / '(1,)type'.\n",
            "  _np_quint16 = np.dtype([(\"quint16\", np.uint16, 1)])\n",
            "/usr/local/lib/python3.6/dist-packages/tensorflow/python/framework/dtypes.py:520: FutureWarning: Passing (type, 1) or '1type' as a synonym of type is deprecated; in a future version of numpy, it will be understood as (type, (1,)) / '(1,)type'.\n",
            "  _np_qint32 = np.dtype([(\"qint32\", np.int32, 1)])\n",
            "/usr/local/lib/python3.6/dist-packages/tensorflow/python/framework/dtypes.py:525: FutureWarning: Passing (type, 1) or '1type' as a synonym of type is deprecated; in a future version of numpy, it will be understood as (type, (1,)) / '(1,)type'.\n",
            "  np_resource = np.dtype([(\"resource\", np.ubyte, 1)])\n"
          ],
          "name": "stderr"
        },
        {
          "output_type": "stream",
          "text": [
            "2.0.0-beta1\n"
          ],
          "name": "stdout"
        },
        {
          "output_type": "stream",
          "text": [
            "/usr/local/lib/python3.6/dist-packages/tensorboard/compat/tensorflow_stub/dtypes.py:541: FutureWarning: Passing (type, 1) or '1type' as a synonym of type is deprecated; in a future version of numpy, it will be understood as (type, (1,)) / '(1,)type'.\n",
            "  _np_qint8 = np.dtype([(\"qint8\", np.int8, 1)])\n",
            "/usr/local/lib/python3.6/dist-packages/tensorboard/compat/tensorflow_stub/dtypes.py:542: FutureWarning: Passing (type, 1) or '1type' as a synonym of type is deprecated; in a future version of numpy, it will be understood as (type, (1,)) / '(1,)type'.\n",
            "  _np_quint8 = np.dtype([(\"quint8\", np.uint8, 1)])\n",
            "/usr/local/lib/python3.6/dist-packages/tensorboard/compat/tensorflow_stub/dtypes.py:543: FutureWarning: Passing (type, 1) or '1type' as a synonym of type is deprecated; in a future version of numpy, it will be understood as (type, (1,)) / '(1,)type'.\n",
            "  _np_qint16 = np.dtype([(\"qint16\", np.int16, 1)])\n",
            "/usr/local/lib/python3.6/dist-packages/tensorboard/compat/tensorflow_stub/dtypes.py:544: FutureWarning: Passing (type, 1) or '1type' as a synonym of type is deprecated; in a future version of numpy, it will be understood as (type, (1,)) / '(1,)type'.\n",
            "  _np_quint16 = np.dtype([(\"quint16\", np.uint16, 1)])\n",
            "/usr/local/lib/python3.6/dist-packages/tensorboard/compat/tensorflow_stub/dtypes.py:545: FutureWarning: Passing (type, 1) or '1type' as a synonym of type is deprecated; in a future version of numpy, it will be understood as (type, (1,)) / '(1,)type'.\n",
            "  _np_qint32 = np.dtype([(\"qint32\", np.int32, 1)])\n",
            "/usr/local/lib/python3.6/dist-packages/tensorboard/compat/tensorflow_stub/dtypes.py:550: FutureWarning: Passing (type, 1) or '1type' as a synonym of type is deprecated; in a future version of numpy, it will be understood as (type, (1,)) / '(1,)type'.\n",
            "  np_resource = np.dtype([(\"resource\", np.ubyte, 1)])\n"
          ],
          "name": "stderr"
        }
      ]
    },
    {
      "cell_type": "code",
      "metadata": {
        "id": "0amTqMY303yt",
        "colab_type": "code",
        "colab": {}
      },
      "source": [
        "def history_show(history):\n",
        "    plt.figure()\n",
        "    plt.plot(history.history['acc'])\n",
        "    plt.plot(history.history['val_acc'])\n",
        "    plt.title('model accuracy')\n",
        "    plt.ylabel('accuracy')\n",
        "    plt.xlabel('epoch')\n",
        "    plt.legend(['train', 'test'], loc='upper left')\n",
        "    plt.show()\n",
        "    # summarize history for loss\n",
        "    plt.plot(history.history['loss'])\n",
        "    plt.plot(history.history['val_loss'])\n",
        "    plt.title('model loss')\n",
        "    plt.ylabel('loss')\n",
        "    plt.xlabel('epoch')\n",
        "    plt.legend(['train', 'test'], loc='upper left')\n",
        "    plt.show()"
      ],
      "execution_count": 0,
      "outputs": []
    },
    {
      "cell_type": "code",
      "metadata": {
        "id": "v2yMjawVcV3X",
        "colab_type": "code",
        "colab": {}
      },
      "source": [
        "IMAGE_SHAPE = (28, 28)"
      ],
      "execution_count": 0,
      "outputs": []
    },
    {
      "cell_type": "code",
      "metadata": {
        "id": "0eBE09Q9d784",
        "colab_type": "code",
        "colab": {}
      },
      "source": [
        "(train_images, train_labels), (test_images, test_labels) = mnist.load_data()\n",
        "\n",
        "train_images = train_images /255\n",
        "train_images = train_images.reshape(*train_images.shape, 1)\n",
        "train_labels = to_categorical(train_labels)\n",
        "\n",
        "test_images = test_images /255\n",
        "test_images = test_images.reshape(*test_images.shape, 1)\n",
        "unenc_test_labels = test_labels.copy()\n",
        "test_labels = to_categorical(test_labels)"
      ],
      "execution_count": 0,
      "outputs": []
    },
    {
      "cell_type": "code",
      "metadata": {
        "id": "sL6bUQvw0-kV",
        "colab_type": "code",
        "outputId": "8d66b6ff-32b7-414e-9442-99cf71cd8c32",
        "colab": {
          "base_uri": "https://localhost:8080/",
          "height": 143
        }
      },
      "source": [
        "n_samples = 5\n",
        "\n",
        "plt.figure(figsize=(n_samples * 2, 3))\n",
        "for index in range(n_samples):\n",
        "    plt.subplot(1, n_samples, index + 1)\n",
        "    sample_image = test_images[index].reshape(28, 28)\n",
        "    plt.imshow(sample_image, cmap=\"binary\")\n",
        "    plt.title(\"Label:\" + str(unenc_test_labels[index]))\n",
        "    plt.axis(\"off\")\n",
        "\n",
        "plt.show()"
      ],
      "execution_count": 0,
      "outputs": [
        {
          "output_type": "display_data",
          "data": {
            "image/png": "[encoded data removed]",
            "text/plain": [
              "<Figure size 720x216 with 5 Axes>"
            ]
          },
          "metadata": {
            "tags": []
          }
        }
      ]
    },
    {
      "cell_type": "code",
      "metadata": {
        "id": "DNobhC_ac_o8",
        "colab_type": "code",
        "colab": {}
      },
      "source": [
        "def build_model_CNN():\n",
        "    model = models.Sequential()\n",
        "\n",
        "    model.add(layers.Conv2D(32, (3, 3), activation='relu', input_shape=(28, 28, 1)))\n",
        "    model.add(layers.MaxPooling2D((2, 2)))\n",
        "    model.add(layers.Conv2D(32, (3, 3), activation='relu'))\n",
        "    model.add(layers.MaxPooling2D((2, 2)))\n",
        "\n",
        "    model.add(layers.Flatten())\n",
        "\n",
        "    model.add(layers.Dense(128, activation='relu'))\n",
        "    model.add(layers.Dense(10, activation='softmax'))\n",
        "\n",
        "    model.compile(loss='categorical_crossentropy', optimizer='adam', metrics=['acc'])\n",
        "\n",
        "    return model"
      ],
      "execution_count": 0,
      "outputs": []
    },
    {
      "cell_type": "code",
      "metadata": {
        "id": "vuIRYyR8e0m7",
        "colab_type": "code",
        "outputId": "3dfc18bd-e404-4d6c-cbb2-2e14b442a25d",
        "colab": {
          "base_uri": "https://localhost:8080/",
          "height": 1000
        }
      },
      "source": [
        "model = build_model_CNN()\n",
        "history = model.fit(train_images, train_labels, epochs=16, batch_size=512, validation_split=0.2)\n",
        "print(model.evaluate(test_images, test_labels, verbose=0))\n",
        "history_show(history)"
      ],
      "execution_count": 0,
      "outputs": [
        {
          "output_type": "stream",
          "text": [
            "WARNING:tensorflow:From /usr/local/lib/python3.6/dist-packages/tensorflow/python/ops/math_grad.py:1250: add_dispatch_support.<locals>.wrapper (from tensorflow.python.ops.array_ops) is deprecated and will be removed in a future version.\n",
            "Instructions for updating:\n",
            "Use tf.where in 2.0, which has the same broadcast rule as np.where\n",
            "Train on 48000 samples, validate on 12000 samples\n",
            "Epoch 1/16\n",
            "48000/48000 [==============================] - 7s 148us/sample - loss: 0.5564 - acc: 0.8569 - val_loss: 0.1496 - val_acc: 0.9581\n",
            "Epoch 2/16\n",
            "48000/48000 [==============================] - 1s 25us/sample - loss: 0.1246 - acc: 0.9628 - val_loss: 0.0926 - val_acc: 0.9741\n",
            "Epoch 3/16\n",
            "48000/48000 [==============================] - 1s 26us/sample - loss: 0.0822 - acc: 0.9758 - val_loss: 0.0724 - val_acc: 0.9794\n",
            "Epoch 4/16\n",
            "48000/48000 [==============================] - 1s 25us/sample - loss: 0.0636 - acc: 0.9814 - val_loss: 0.0653 - val_acc: 0.9815\n",
            "Epoch 5/16\n",
            "48000/48000 [==============================] - 1s 25us/sample - loss: 0.0553 - acc: 0.9834 - val_loss: 0.0565 - val_acc: 0.9830\n",
            "Epoch 6/16\n",
            "48000/48000 [==============================] - 1s 26us/sample - loss: 0.0440 - acc: 0.9867 - val_loss: 0.0527 - val_acc: 0.9850\n",
            "Epoch 7/16\n",
            "48000/48000 [==============================] - 1s 25us/sample - loss: 0.0385 - acc: 0.9883 - val_loss: 0.0501 - val_acc: 0.9850\n",
            "Epoch 8/16\n",
            "48000/48000 [==============================] - 1s 26us/sample - loss: 0.0345 - acc: 0.9895 - val_loss: 0.0459 - val_acc: 0.9862\n",
            "Epoch 9/16\n",
            "48000/48000 [==============================] - 1s 26us/sample - loss: 0.0324 - acc: 0.9897 - val_loss: 0.0445 - val_acc: 0.9865\n",
            "Epoch 10/16\n",
            "48000/48000 [==============================] - 1s 25us/sample - loss: 0.0267 - acc: 0.9919 - val_loss: 0.0461 - val_acc: 0.9864\n",
            "Epoch 11/16\n",
            "48000/48000 [==============================] - 1s 25us/sample - loss: 0.0258 - acc: 0.9918 - val_loss: 0.0473 - val_acc: 0.9864\n",
            "Epoch 12/16\n",
            "48000/48000 [==============================] - 1s 25us/sample - loss: 0.0216 - acc: 0.9934 - val_loss: 0.0398 - val_acc: 0.9867\n",
            "Epoch 13/16\n",
            "48000/48000 [==============================] - 1s 25us/sample - loss: 0.0181 - acc: 0.9946 - val_loss: 0.0450 - val_acc: 0.9874\n",
            "Epoch 14/16\n",
            "48000/48000 [==============================] - 1s 25us/sample - loss: 0.0183 - acc: 0.9940 - val_loss: 0.0476 - val_acc: 0.9862\n",
            "Epoch 15/16\n",
            "48000/48000 [==============================] - 1s 26us/sample - loss: 0.0161 - acc: 0.9945 - val_loss: 0.0418 - val_acc: 0.9877\n",
            "Epoch 16/16\n",
            "48000/48000 [==============================] - 1s 25us/sample - loss: 0.0132 - acc: 0.9960 - val_loss: 0.0465 - val_acc: 0.9859\n",
            "[0.035168625584234545, 0.9884]\n"
          ],
          "name": "stdout"
        },
        {
          "output_type": "display_data",
          "data": {
            "image/png": "[encoded data removed]",
            "text/plain": [
              "<Figure size 432x288 with 1 Axes>"
            ]
          },
          "metadata": {
            "tags": []
          }
        },
        {
          "output_type": "display_data",
          "data": {
            "image/png": "[encoded data removed]",
            "text/plain": [
              "<Figure size 432x288 with 1 Axes>"
            ]
          },
          "metadata": {
            "tags": []
          }
        }
      ]
    },
    {
      "cell_type": "code",
      "metadata": {
        "id": "3ZEFBDhHiWsS",
        "colab_type": "code",
        "colab": {}
      },
      "source": [
        "input_shape = layers.Input(shape=(28,28,1))  # size of input image is 28*28\n",
        "# a convolution layer output shape = 20*20*256\n",
        "conv1 = layers.Conv2D(256, (9,9), activation = 'relu', padding = 'valid')(input_shape)\n",
        "\n",
        "# convolution layer with stride 2 and 256 filters of size 9*9\n",
        "conv2 = layers.Conv2D(256, (9,9), strides = 2, padding = 'valid')(conv1)\n",
        " \n",
        "# reshape into 1152 capsules of 8 dimensional vectors\n",
        "reshaped = layers.Reshape((6*6*32,8))(conv2)\n",
        " \n",
        "def squash(inputs):\n",
        "    # take norm of input vectors\n",
        "    squared_norm = K.sum(K.square(inputs), axis = -1, keepdims = True)\n",
        " \n",
        "    # use the formula for non-linear function to return squashed output\n",
        "    return ((squared_norm/(1+squared_norm))/(K.sqrt(squared_norm+K.epsilon())))*inputs\n",
        "    \n",
        "# squash the reshaped output to make length of vector b/w 0 and 1\n",
        "squashed_output = layers.Lambda(squash)(reshaped)\n",
        "\n",
        "class DigitCapsuleLayer(layers.Layer):\n",
        "    # creating a layer class in keras\n",
        "    def __init__(self, **kwargs):\n",
        "        super(DigitCapsuleLayer, self).__init__(**kwargs)\n",
        "        self.kernel_initializer = initializers.get('glorot_uniform')\n",
        "    \n",
        "    def build(self, input_shape): \n",
        "        # initialize weight matrix for each capsule in lower layer\n",
        "        self.W = self.add_weight(shape = [10, 6*6*32, 16, 8], \n",
        "                                 initializer = self.kernel_initializer, \n",
        "                                 name = 'weights')\n",
        "        self.built = True\n",
        "    \n",
        "    def call(self, inputs):\n",
        "        inputs = K.expand_dims(inputs, 1)\n",
        "        inputs = K.tile(inputs, [1, 10, 1, 1])\n",
        "        # matrix multiplication b/w previous layer output and weight matrix\n",
        "        inputs = K.map_fn(lambda x: K.batch_dot(x, self.W, [2, 3]), elems=inputs)\n",
        "        b = tf.zeros(shape = [K.shape(inputs)[0], 10, 6*6*32])\n",
        "        \n",
        "    # routing algorithm with updating coupling coefficient c, using scalar product b/w input capsule and output capsule\n",
        "        for i in range(3-1):\n",
        "            c = tf.nn.softmax(b, axis=1)\n",
        "            s = K.batch_dot(c, inputs, [2, 2])\n",
        "            v = squash(s)\n",
        "            b = b + K.batch_dot(v, inputs, [2,3])\n",
        "            \n",
        "        return v \n",
        "\n",
        "    def compute_output_shape(self, input_shape):\n",
        "        return tuple([None, 10, 16])\n",
        "\n",
        "def output_layer(inputs):\n",
        "    return K.sqrt(K.sum(K.square(inputs), -1) + K.epsilon())\n",
        "\n",
        "digit_caps = DigitCapsuleLayer()(squashed_output)\n",
        "outputs = layers.Lambda(output_layer)(digit_caps)\n",
        "\n",
        "def mask(outputs):\n",
        "    if type(outputs) != list:  # mask at test time\n",
        "        norm_outputs = K.sqrt(K.sum(K.square(outputs), -1) + K.epsilon())\n",
        "        y  = K.one_hot(indices=K.argmax(norm_outputs, 1), num_classes = 10)\n",
        "        y = layers.Reshape((10,1))(y)\n",
        "        return layers.Flatten()(y*outputs)\n",
        " \n",
        "    else:    # mask at train time\n",
        "        y = layers.Reshape((10,1))(outputs[1])\n",
        "        masked_output = y*outputs[0]\n",
        "        return layers.Flatten()(masked_output)\n",
        "    \n",
        "inputs = layers.Input(shape = (10,))\n",
        "masked = layers.Lambda(mask)([digit_caps, inputs])\n",
        "masked_for_test = layers.Lambda(mask)(digit_caps)\n",
        " \n",
        "decoded_inputs = layers.Input(shape = (16*10,))\n",
        "dense1 = layers.Dense(512, activation = 'relu')(decoded_inputs)\n",
        "dense2 = layers.Dense(1024, activation = 'relu')(dense1)\n",
        "decoded_outputs = layers.Dense(784, activation = 'sigmoid')(dense2)\n",
        "decoded_outputs = layers.Reshape((28,28,1))(decoded_outputs)\n",
        "\n",
        "def loss_fn(y_true, y_pred):\n",
        " \n",
        "    L = y_true * K.square(K.maximum(0., 0.9 - y_pred)) + 0.5 * (1 - y_true) * K.square(K.maximum(0., y_pred - 0.1))\n",
        " \n",
        "    return K.mean(K.sum(L, 1))"
      ],
      "execution_count": 0,
      "outputs": []
    },
    {
      "cell_type": "code",
      "metadata": {
        "id": "5lQQUfZy5W7R",
        "colab_type": "code",
        "outputId": "a58fce60-8146-43c6-879f-04eaac25bf9a",
        "colab": {
          "base_uri": "https://localhost:8080/",
          "height": 506
        }
      },
      "source": [
        "decoder = models.Model(decoded_inputs, decoded_outputs)\n",
        "model = models.Model([input_shape,inputs],[outputs,decoder(masked)])\n",
        "test_model = models.Model(input_shape,[outputs,decoder(masked_for_test)])\n",
        "\n",
        "model.compile(optimizer=optimizers.Adam(lr=0.001),\n",
        "              loss=[loss_fn,'mse'],loss_weights = [1. ,0.0005],\n",
        "              metrics=['accuracy'])\n",
        "\n",
        "history = model.fit([train_images, train_labels],\n",
        "                    [train_labels, train_images], \n",
        "                    batch_size = 128, \n",
        "                    epochs = 12, \n",
        "                    validation_split = 0.10)\n",
        " \n",
        "model.evaluate([test_images, test_labels],[test_labels, test_images])"
      ],
      "execution_count": 0,
      "outputs": [
        {
          "output_type": "stream",
          "text": [
            "Train on 54000 samples, validate on 6000 samples\n",
            "Epoch 1/12\n",
            "54000/54000 [==============================] - 352s 7ms/sample - loss: 0.8095 - lambda_5_loss: 0.8094 - model_3_loss: 0.1458 - lambda_5_accuracy: 0.1130 - model_3_accuracy: 0.7861 - val_loss: 0.8095 - val_lambda_5_loss: 0.8094 - val_model_3_loss: 0.0675 - val_lambda_5_accuracy: 0.1420 - val_model_3_accuracy: 0.8028\n",
            "Epoch 2/12\n",
            "54000/54000 [==============================] - 354s 7ms/sample - loss: 0.4280 - lambda_5_loss: 0.4279 - model_3_loss: 0.0673 - lambda_5_accuracy: 0.5396 - model_3_accuracy: 0.8037 - val_loss: 0.0718 - val_lambda_5_loss: 0.0717 - val_model_3_loss: 0.0664 - val_lambda_5_accuracy: 0.9458 - val_model_3_accuracy: 0.8039\n",
            "Epoch 3/12\n",
            "54000/54000 [==============================] - 351s 6ms/sample - loss: 0.0609 - lambda_5_loss: 0.0608 - model_3_loss: 0.0659 - lambda_5_accuracy: 0.9520 - model_3_accuracy: 0.8041 - val_loss: 0.0378 - val_lambda_5_loss: 0.0378 - val_model_3_loss: 0.0645 - val_lambda_5_accuracy: 0.9710 - val_model_3_accuracy: 0.8061\n",
            "Epoch 4/12\n",
            "54000/54000 [==============================] - 354s 7ms/sample - loss: 0.0406 - lambda_5_loss: 0.0406 - model_3_loss: 0.0630 - lambda_5_accuracy: 0.9673 - model_3_accuracy: 0.8048 - val_loss: 0.0317 - val_lambda_5_loss: 0.0316 - val_model_3_loss: 0.0599 - val_lambda_5_accuracy: 0.9767 - val_model_3_accuracy: 0.8040\n",
            "Epoch 5/12\n",
            "54000/54000 [==============================] - 355s 7ms/sample - loss: 0.0319 - lambda_5_loss: 0.0319 - model_3_loss: 0.0580 - lambda_5_accuracy: 0.9754 - model_3_accuracy: 0.8006 - val_loss: 0.0241 - val_lambda_5_loss: 0.0241 - val_model_3_loss: 0.0550 - val_lambda_5_accuracy: 0.9807 - val_model_3_accuracy: 0.7996\n",
            "Epoch 6/12\n",
            "54000/54000 [==============================] - 355s 7ms/sample - loss: 0.0268 - lambda_5_loss: 0.0268 - model_3_loss: 0.0551 - lambda_5_accuracy: 0.9784 - model_3_accuracy: 0.7973 - val_loss: 0.0203 - val_lambda_5_loss: 0.0202 - val_model_3_loss: 0.0532 - val_lambda_5_accuracy: 0.9842 - val_model_3_accuracy: 0.7967\n",
            "Epoch 7/12\n",
            "54000/54000 [==============================] - 356s 7ms/sample - loss: 0.0230 - lambda_5_loss: 0.0230 - model_3_loss: 0.0541 - lambda_5_accuracy: 0.9823 - model_3_accuracy: 0.7958 - val_loss: 0.0201 - val_lambda_5_loss: 0.0201 - val_model_3_loss: 0.0524 - val_lambda_5_accuracy: 0.9850 - val_model_3_accuracy: 0.7976\n",
            "Epoch 8/12\n",
            "54000/54000 [==============================] - 354s 7ms/sample - loss: 0.0209 - lambda_5_loss: 0.0209 - model_3_loss: 0.0536 - lambda_5_accuracy: 0.9836 - model_3_accuracy: 0.7951 - val_loss: 0.0181 - val_lambda_5_loss: 0.0181 - val_model_3_loss: 0.0520 - val_lambda_5_accuracy: 0.9847 - val_model_3_accuracy: 0.7964\n",
            "Epoch 9/12\n",
            "54000/54000 [==============================] - 352s 7ms/sample - loss: 0.0192 - lambda_5_loss: 0.0191 - model_3_loss: 0.0534 - lambda_5_accuracy: 0.9844 - model_3_accuracy: 0.7946 - val_loss: 0.0179 - val_lambda_5_loss: 0.0179 - val_model_3_loss: 0.0518 - val_lambda_5_accuracy: 0.9848 - val_model_3_accuracy: 0.7957\n",
            "Epoch 10/12\n",
            "54000/54000 [==============================] - 350s 6ms/sample - loss: 0.0176 - lambda_5_loss: 0.0175 - model_3_loss: 0.0532 - lambda_5_accuracy: 0.9866 - model_3_accuracy: 0.7944 - val_loss: 0.0160 - val_lambda_5_loss: 0.0160 - val_model_3_loss: 0.0517 - val_lambda_5_accuracy: 0.9860 - val_model_3_accuracy: 0.7957\n",
            "Epoch 11/12\n",
            "54000/54000 [==============================] - 350s 6ms/sample - loss: 0.0165 - lambda_5_loss: 0.0164 - model_3_loss: 0.0531 - lambda_5_accuracy: 0.9874 - model_3_accuracy: 0.7944 - val_loss: 0.0170 - val_lambda_5_loss: 0.0169 - val_model_3_loss: 0.0516 - val_lambda_5_accuracy: 0.9885 - val_model_3_accuracy: 0.7960\n",
            "Epoch 12/12\n",
            "54000/54000 [==============================] - 353s 7ms/sample - loss: 0.0156 - lambda_5_loss: 0.0156 - model_3_loss: 0.0530 - lambda_5_accuracy: 0.9887 - model_3_accuracy: 0.7944 - val_loss: 0.0152 - val_lambda_5_loss: 0.0152 - val_model_3_loss: 0.0514 - val_lambda_5_accuracy: 0.9868 - val_model_3_accuracy: 0.7964\n",
            "10000/10000 [==============================] - 16s 2ms/sample - loss: 0.0164 - lambda_5_loss: 0.0163 - model_3_loss: 0.0523 - lambda_5_accuracy: 0.9866 - model_3_accuracy: 0.7950\n"
          ],
          "name": "stdout"
        },
        {
          "output_type": "execute_result",
          "data": {
            "text/plain": [
              "[0.016368528852472083, 0.016317755, 0.052330896, 0.9866, 0.7950278]"
            ]
          },
          "metadata": {
            "tags": []
          },
          "execution_count": 17
        }
      ]
    },
    {
      "cell_type": "code",
      "metadata": {
        "id": "-4MA5O6JCuU3",
        "colab_type": "code",
        "colab": {}
      },
      "source": [
        "model.save('mnist_capsnet.h5')\n",
        "files.download('mnist_capsnet.h5')"
      ],
      "execution_count": 0,
      "outputs": []
    },
    {
      "cell_type": "code",
      "metadata": {
        "id": "Io5orD4vDUim",
        "colab_type": "code",
        "outputId": "d641f840-1aa7-4c6c-a50f-b1c65984ceb3",
        "colab": {
          "base_uri": "https://localhost:8080/",
          "height": 34
        }
      },
      "source": [
        "print(history.history.keys())"
      ],
      "execution_count": 0,
      "outputs": [
        {
          "output_type": "stream",
          "text": [
            "dict_keys(['loss', 'lambda_5_loss', 'model_3_loss', 'lambda_5_accuracy', 'model_3_accuracy', 'val_loss', 'val_lambda_5_loss', 'val_model_3_loss', 'val_lambda_5_accuracy', 'val_model_3_accuracy'])\n"
          ],
          "name": "stdout"
        }
      ]
    },
    {
      "cell_type": "code",
      "metadata": {
        "id": "zKeYsV79Bxxt",
        "colab_type": "code",
        "outputId": "671a9f8f-588a-46a4-c491-9e32a670e878",
        "colab": {
          "base_uri": "https://localhost:8080/",
          "height": 265
        }
      },
      "source": [
        "plt.plot(history.history['lambda_5_accuracy'], label='train')\n",
        "plt.plot(history.history['val_lambda_5_accuracy'], label='test')\n",
        "plt.show()"
      ],
      "execution_count": 0,
      "outputs": [
        {
          "output_type": "display_data",
          "data": {
            "image/png": "[encoded data removed]",
            "text/plain": [
              "<Figure size 432x288 with 1 Axes>"
            ]
          },
          "metadata": {
            "tags": []
          }
        }
      ]
    },
    {
      "cell_type": "code",
      "metadata": {
        "id": "UdEWDRhcBzA-",
        "colab_type": "code",
        "outputId": "ff47cb2d-6a1c-4e9b-e7a2-984abf84cd19",
        "colab": {
          "base_uri": "https://localhost:8080/",
          "height": 265
        }
      },
      "source": [
        "plt.plot(history.history['loss'], label='train')\n",
        "plt.plot(history.history['val_loss'], label='test')\n",
        "plt.show()"
      ],
      "execution_count": 0,
      "outputs": [
        {
          "output_type": "display_data",
          "data": {
            "image/png": "[encoded data removed]",
            "text/plain": [
              "<Figure size 432x288 with 1 Axes>"
            ]
          },
          "metadata": {
            "tags": []
          }
        }
      ]
    },
    {
      "cell_type": "code",
      "metadata": {
        "id": "CATuNvsWB7Hd",
        "colab_type": "code",
        "outputId": "5987a119-cf04-4b99-fadb-e756d3a83f8d",
        "colab": {
          "base_uri": "https://localhost:8080/",
          "height": 265
        }
      },
      "source": [
        "label_predicted, image_predicted = model.predict([test_images, test_labels])\n",
        "\n",
        "n_samples = 10\n",
        "\n",
        "plt.figure(figsize=(n_samples * 2, 3))\n",
        "for index in range(n_samples):\n",
        "    plt.subplot(1, n_samples, index + 1)\n",
        "    sample_image = test_images[index].reshape(28, 28)\n",
        "    plt.imshow(sample_image, cmap=\"binary\")\n",
        "    plt.title(\"Label:\" + str(unenc_test_labels[index]))\n",
        "    plt.axis(\"off\")\n",
        "\n",
        "plt.show()\n",
        "\n",
        "plt.figure(figsize=(n_samples * 2, 3))\n",
        "for index in range(n_samples):\n",
        "    plt.subplot(1, n_samples, index + 1)\n",
        "    sample_image = image_predicted[index].reshape(28, 28)\n",
        "    plt.imshow(sample_image, cmap=\"binary\")\n",
        "    plt.title(\"Predicted:\" + str(np.argmax(label_predicted[index])))\n",
        "    plt.axis(\"off\")\n",
        "\n",
        "plt.show()"
      ],
      "execution_count": 0,
      "outputs": [
        {
          "output_type": "display_data",
          "data": {
            "image/png": "[encoded data removed]",
            "text/plain": [
              "<Figure size 1440x216 with 10 Axes>"
            ]
          },
          "metadata": {
            "tags": []
          }
        },
        {
          "output_type": "display_data",
          "data": {
            "image/png": "[encoded data removed]",
            "text/plain": [
              "<Figure size 1440x216 with 10 Axes>"
            ]
          },
          "metadata": {
            "tags": []
          }
        }
      ]
    }
  ]
}